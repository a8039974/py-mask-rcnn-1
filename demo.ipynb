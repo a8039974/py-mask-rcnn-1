{
 "cells": [
  {
   "cell_type": "code",
   "execution_count": 1,
   "metadata": {
    "collapsed": true,
    "deletable": true,
    "editable": true
   },
   "outputs": [],
   "source": [
    "import sys\n",
    "sys.path.insert(0,'./caffe-fast-rcnn/python/')\n",
    "import caffe\n",
    "import matplotlib.pyplot as plt \n",
    "%matplotlib inline\n",
    "import numpy as np\n",
    "sys.path.insert(0,'lib/')\n",
    "sys.path.insert(0,'tools/')"
   ]
  },
  {
   "cell_type": "code",
   "execution_count": 2,
   "metadata": {
    "collapsed": true,
    "deletable": true,
    "editable": true
   },
   "outputs": [],
   "source": [
    "from fast_rcnn.config import cfg, cfg_from_file, cfg_from_list\n",
    "from fast_rcnn.bbox_transform import clip_boxes, bbox_transform_inv\n",
    "from fast_rcnn.nms_wrapper import nms\n",
    "import caffe\n",
    "import time, os, sys\n",
    "import cv2\n",
    "import numpy as np\n",
    "import _init_paths\n",
    "from matplotlib.patches import Polygon\n",
    "import scipy\n",
    "from utils.for_demo import im_proccess, vis_detections, colormap\n",
    "\n",
    "caffe.set_mode_gpu()\n",
    "caffe.set_device(0)\n",
    "test_prototxt = 'models/coco/ResNet-50/mask_rcnn_end2end/maskrcnn_resnet50_C4_test.prototxt'\n",
    "weights = 'output/faster_rcnn_end2end/coco_2014_train/coco_train_mask_rcnn_iter_300000.caffemodel'\n",
    "net = caffe.Net(test_prototxt, weights, caffe.TEST)\n"
   ]
  },
  {
   "cell_type": "code",
   "execution_count": 3,
   "metadata": {
    "collapsed": true,
    "deletable": true,
    "editable": true
   },
   "outputs": [],
   "source": [
    "max_per_image = 100\n",
    "num_classes = 81\n",
    "score_thresh = 0.05\n",
    "mask_thresh = 0.4\n",
    "vis = 0\n",
    "mask_color_id = 0\n",
    "def get_boxes_masks(im_orig, rois, im_scale, out, i):\n",
    "    boxes = rois[:, 1:5] / im_scale\n",
    "    scores = out['cls_prob']\n",
    "    box_deltas = out['bbox_pred']\n",
    "    masks = np.squeeze(out['mask_prob'])\n",
    "    pred_boxes = bbox_transform_inv(boxes, box_deltas)\n",
    "    pred_boxes = clip_boxes(pred_boxes, im_orig.shape)\n",
    "\n",
    "    # skip j = 0, because it's the background class\n",
    "    for j in xrange(1, num_classes):\n",
    "        inds = np.where(scores[:, j] > score_thresh)[0]\n",
    "        cls_scores = scores[inds, j]\n",
    "        cls_boxes = pred_boxes[inds, j*4:(j+1)*4]\n",
    "        cls_masks = masks[inds, ...]\n",
    "        cls_dets = np.hstack((cls_boxes, cls_scores[:, np.newaxis])).astype(np.float32, copy=False)\n",
    "        keep = nms(cls_dets, cfg.TEST.NMS)\n",
    "        cls_dets = cls_dets[keep, :]\n",
    "    #     print np.argsort(cls_dets[:, -1])\n",
    "    #     print j,keep\n",
    "        cls_masks = cls_masks[keep, :]\n",
    "        if vis:\n",
    "            vis_detections(im_orig, j, cls_dets)\n",
    "        all_data[j][i] = {'dets':cls_dets, 'masks': cls_masks}\n",
    "\n",
    "    # Limit to max_per_image detections *over all classes*\n",
    "    if max_per_image > 0:\n",
    "        image_scores = np.hstack([all_data[j][i]['dets'][:, -1] for j in xrange(1, num_classes)])\n",
    "        if len(image_scores) > max_per_image:\n",
    "            image_thresh = np.sort(image_scores)[-max_per_image]\n",
    "            for j in xrange(1, num_classes):\n",
    "                keep = np.where(all_data[j][i]['dets'][:, -1] >= image_thresh)[0]\n",
    "                all_data[j][i] = {'dets':all_data[j][i]['dets'][keep, :], 'masks': all_data[j][i]['masks'][keep, :]}"
   ]
  },
  {
   "cell_type": "code",
   "execution_count": 4,
   "metadata": {
    "collapsed": false,
    "deletable": true,
    "editable": true
   },
   "outputs": [
    {
     "data": {
      "text/plain": [
       "<matplotlib.figure.Figure at 0x7fc833944310>"
      ]
     },
     "metadata": {},
     "output_type": "display_data"
    }
   ],
   "source": [
    "im_dir = 'data/test_images/'\n",
    "save_dir = 'data/save/'\n",
    "classes = np.load('classes.npy')\n",
    "if not os.path.isdir(save_dir):\n",
    "    os.makedirs(save_dir)\n",
    "im_list = os.listdir(im_dir)\n",
    "num_images = len(im_list)\n",
    "color_list = colormap(rgb=True) / 255   \n",
    "all_data = [[[] for _ in xrange(num_images)] for _ in xrange(num_classes)]\n",
    "for i in range(num_images):\n",
    "    im_orig = cv2.imread(im_dir + im_list[i])\n",
    "    image_shape=im_orig.shape \n",
    "    im_blob, im_info, im_scale = im_proccess(im_orig)\n",
    "    net.blobs['data'].reshape(*(im_blob.shape))\n",
    "    net.blobs['im_info'].reshape(*(im_info.shape))\n",
    "    net.blobs['data'].data[...] = im_blob\n",
    "    net.blobs['im_info'].data[...] = im_info\n",
    "    out = net.forward()\n",
    "    rois = net.blobs['rois'].data.copy()\n",
    "    get_boxes_masks(im_orig, rois, im_scale, out, i)\n",
    "    \n",
    "    \n",
    "    fig = plt.gca()\n",
    "    fig.imshow(im_orig[:,:,::-1])\n",
    "    for j in xrange(1, num_classes):\n",
    "        color_mask = color_list[mask_color_id % len(color_list), 0:3]\n",
    "        mask_color_id += 1\n",
    "        w_ratio = .4\n",
    "        for c in range(3):\n",
    "            color_mask[c] = color_mask[c] * (1 - w_ratio) + w_ratio\n",
    "        if len(all_data[j][i]['dets']) > 0:\n",
    "            mask = all_data[j][i]['masks'][0, ...]\n",
    "            bbox = all_data[j][i]['dets'][0, :4]\n",
    "\n",
    "            x1, y1, x2, y2 = bbox\n",
    "            mask = scipy.misc.imresize(mask, (y2 - y1, x2 - x1), interp='bilinear')\n",
    "            _, mask=cv2.threshold(mask, mask_thresh*255, 255, cv2.THRESH_BINARY)\n",
    "\n",
    "            full_mask = np.zeros(image_shape[:2], dtype=np.uint8)\n",
    "            full_mask[int(round(y1)):(mask.shape[0]+int(round(y1))), int(round(x1)):(mask.shape[1]+int(round(x1)))] = mask\n",
    "\n",
    "            fig.add_patch(plt.Rectangle((bbox[0], bbox[1]),\n",
    "                                               bbox[2] - bbox[0],\n",
    "                                               bbox[3] - bbox[1], fill=False,\n",
    "                                               edgecolor='g', linewidth=1.2))\n",
    "            \n",
    "            class_text = classes[j] + ' {:0.2f}'.format(all_data[j][i]['dets'][0, -1]).lstrip('0')\n",
    "            fig.text(bbox[0], bbox[1] - 2,\n",
    "                           class_text,\n",
    "                           fontsize = 4,\n",
    "                           family = 'serif',\n",
    "                           bbox = dict(facecolor='g', alpha=0.4, pad=0, edgecolor='none'),\n",
    "                           color = 'white')\n",
    "\n",
    "            _, contour, _ = cv2.findContours(\n",
    "                full_mask.copy(), cv2.RETR_CCOMP, cv2.CHAIN_APPROX_NONE)\n",
    "\n",
    "            for c in contour:\n",
    "                polygon = Polygon(\n",
    "                    c.reshape((-1, 2)),\n",
    "                    fill=True, facecolor=color_mask,\n",
    "                    edgecolor='w', linewidth=0.7,\n",
    "                    alpha=0.5)\n",
    "                fig.add_patch(polygon)\n",
    "    plt.savefig(save_dir+im_list[i], dpi=200)\n",
    "    plt.clf()"
   ]
  },
  {
   "cell_type": "code",
   "execution_count": null,
   "metadata": {
    "collapsed": true,
    "deletable": true,
    "editable": true
   },
   "outputs": [],
   "source": []
  }
 ],
 "metadata": {
  "kernelspec": {
   "display_name": "Python 2",
   "language": "python",
   "name": "python2"
  },
  "language_info": {
   "codemirror_mode": {
    "name": "ipython",
    "version": 2
   },
   "file_extension": ".py",
   "mimetype": "text/x-python",
   "name": "python",
   "nbconvert_exporter": "python",
   "pygments_lexer": "ipython2",
   "version": "2.7.12"
  }
 },
 "nbformat": 4,
 "nbformat_minor": 2
}
